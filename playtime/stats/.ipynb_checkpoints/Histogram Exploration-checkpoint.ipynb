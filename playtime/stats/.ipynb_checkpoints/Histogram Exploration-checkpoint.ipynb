{
 "metadata": {
  "name": "",
  "signature": "sha256:111c7431e49fc8e7273952e418430c4fe0981c91fb31f8c9419b5ced5b245c8f"
 },
 "nbformat": 3,
 "nbformat_minor": 0,
 "worksheets": [
  {
   "cells": [
    {
     "cell_type": "code",
     "collapsed": false,
     "input": [
      "import numpy as np\n",
      "import matplotlib.pyplot as plt\n",
      "%matplotlib inline"
     ],
     "language": "python",
     "metadata": {},
     "outputs": [],
     "prompt_number": 12
    },
    {
     "cell_type": "code",
     "collapsed": false,
     "input": [
      "size=1000000\n",
      "w = np.random.normal(0, size=size)\n",
      "x = np.random.uniform(low=-6, high=6, size=size)\n",
      "y = np.random.exponential(scale=20, size=size)\n",
      "z = np.random.poisson(lam=10, size=size)\n",
      "\n",
      "#help(plt.hist)\n",
      "# the histogram of the data with histtype='step'\n",
      "plt.hist((z, w), bins=50, normed=True, stacked=True)\n",
      "         #cumulative=True)\n",
      "#plt.hist(x, bins=(-10,-1,1,10))\n",
      "plt.title(\"Histogram\")\n",
      "plt.xlabel(\"Value\")\n",
      "plt.ylabel(\"Frequency\")\n",
      "plt.show()"
     ],
     "language": "python",
     "metadata": {},
     "outputs": [
      {
       "metadata": {},
       "output_type": "display_data",
       "png": "[encoded data removed]",
       "text": [
        "<matplotlib.figure.Figure at 0x106023650>"
       ]
      }
     ],
     "prompt_number": 16
    },
    {
     "cell_type": "code",
     "collapsed": false,
     "input": [],
     "language": "python",
     "metadata": {},
     "outputs": [],
     "prompt_number": 11
    },
    {
     "cell_type": "code",
     "collapsed": false,
     "input": [],
     "language": "python",
     "metadata": {},
     "outputs": [],
     "prompt_number": 8
    },
    {
     "cell_type": "code",
     "collapsed": false,
     "input": [],
     "language": "python",
     "metadata": {},
     "outputs": [],
     "prompt_number": 8
    },
    {
     "cell_type": "code",
     "collapsed": false,
     "input": [],
     "language": "python",
     "metadata": {},
     "outputs": []
    }
   ],
   "metadata": {}
  }
 ]
}