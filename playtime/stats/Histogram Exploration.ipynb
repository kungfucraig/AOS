{
 "metadata": {
  "name": "",
  "signature": "sha256:b37d94b6d121940bb0c3d06c11c3bfd7e095398227c2b3999a14465db97a87ea"
 },
 "nbformat": 3,
 "nbformat_minor": 0,
 "worksheets": [
  {
   "cells": [
    {
     "cell_type": "code",
     "collapsed": false,
     "input": [
      "import numpy as np\n",
      "import matplotlib.pyplot as plt\n",
      "%matplotlib inline"
     ],
     "language": "python",
     "metadata": {},
     "outputs": [],
     "prompt_number": 12
    },
    {
     "cell_type": "code",
     "collapsed": false,
     "input": [],
     "language": "python",
     "metadata": {},
     "outputs": [],
     "prompt_number": 11
    },
    {
     "cell_type": "code",
     "collapsed": false,
     "input": [
      "size=1000000\n",
      "w = np.random.normal(0, size=size)\n",
      "x = np.random.uniform(low=-6, high=6, size=size)\n",
      "y = np.random.exponential(scale=20, size=size)\n",
      "z = np.random.poisson(lam=10, size=size)\n",
      "\n",
      "#help(plt.hist)\n",
      "# the histogram of the data with histtype='step'\n",
      "plt.hist((z, w), bins=50, normed=True, stacked=True)#, cumulative=True)\n",
      "#plt.hist(x, bins=(-10,-1,1,10))\n",
      "plt.title(\"Histogram\")\n",
      "plt.xlabel(\"Value\")\n",
      "plt.ylabel(\"Frequency\")\n",
      "plt.show()"
     ],
     "language": "python",
     "metadata": {},
     "outputs": [
      {
       "metadata": {},
       "output_type": "display_data",
       "png": "[encoded data removed]",
       "text": [
        "<matplotlib.figure.Figure at 0x10a4b9b50>"
       ]
      }
     ],
     "prompt_number": 20
    },
    {
     "cell_type": "code",
     "collapsed": false,
     "input": [],
     "language": "python",
     "metadata": {},
     "outputs": [],
     "prompt_number": 8
    },
    {
     "cell_type": "code",
     "collapsed": false,
     "input": [],
     "language": "python",
     "metadata": {},
     "outputs": [],
     "prompt_number": 8
    },
    {
     "cell_type": "code",
     "collapsed": false,
     "input": [],
     "language": "python",
     "metadata": {},
     "outputs": []
    }
   ],
   "metadata": {}
  }
 ]
}